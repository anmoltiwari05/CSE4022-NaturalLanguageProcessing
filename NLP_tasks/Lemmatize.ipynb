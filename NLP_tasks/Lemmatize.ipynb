{
 "cells": [
  {
   "cell_type": "code",
   "execution_count": 2,
   "metadata": {},
   "outputs": [],
   "source": [
    "from nltk import WordNetLemmatizer\n",
    "from nltk.tokenize import word_tokenize, sent_tokenize\n",
    "lemm = WordNetLemmatizer()"
   ]
  },
  {
   "cell_type": "code",
   "execution_count": 3,
   "metadata": {},
   "outputs": [],
   "source": [
    "example = \"\"\"Natural language processing (NLP) is a subfield of computer science, information engineering, and artificial intelligence concerned with the interactions between computers and human (natural) languages, in particular how to program computers to process and analyze large amounts of natural language data.\n",
    "Challenges in natural language processing frequently involve speech recognition, natural language understanding, and natural language generation.\"\"\"\n",
    "\n",
    "words = word_tokenize(example)"
   ]
  },
  {
   "cell_type": "code",
   "execution_count": 4,
   "metadata": {},
   "outputs": [
    {
     "name": "stdout",
     "output_type": "stream",
     "text": [
      "Natural\n",
      "language\n",
      "processing\n",
      "(\n",
      "NLP\n",
      ")\n",
      "is\n",
      "a\n",
      "subfield\n",
      "of\n",
      "computer\n",
      "science\n",
      ",\n",
      "information\n",
      "engineering\n",
      ",\n",
      "and\n",
      "artificial\n",
      "intelligence\n",
      "concerned\n",
      "with\n",
      "the\n",
      "interaction\n",
      "between\n",
      "computer\n",
      "and\n",
      "human\n",
      "(\n",
      "natural\n",
      ")\n",
      "language\n",
      ",\n",
      "in\n",
      "particular\n",
      "how\n",
      "to\n",
      "program\n",
      "computer\n",
      "to\n",
      "process\n",
      "and\n",
      "analyze\n",
      "large\n",
      "amount\n",
      "of\n",
      "natural\n",
      "language\n",
      "data\n",
      ".\n",
      "Challenges\n",
      "in\n",
      "natural\n",
      "language\n",
      "processing\n",
      "frequently\n",
      "involve\n",
      "speech\n",
      "recognition\n",
      ",\n",
      "natural\n",
      "language\n",
      "understanding\n",
      ",\n",
      "and\n",
      "natural\n",
      "language\n",
      "generation\n",
      ".\n"
     ]
    }
   ],
   "source": [
    "for w in words:\n",
    "    print(lemm.lemmatize(w))"
   ]
  },
  {
   "cell_type": "code",
   "execution_count": 10,
   "metadata": {},
   "outputs": [
    {
     "name": "stdout",
     "output_type": "stream",
     "text": [
      "[nltk_data] Downloading package wordnet to\n",
      "[nltk_data]     C:\\Users\\anmol\\AppData\\Roaming\\nltk_data...\n",
      "[nltk_data]   Package wordnet is already up-to-date!\n"
     ]
    },
    {
     "data": {
      "text/plain": [
       "True"
      ]
     },
     "execution_count": 10,
     "metadata": {},
     "output_type": "execute_result"
    }
   ],
   "source": [
    "import nltk\n",
    "nltk.download('wordnet')"
   ]
  },
  {
   "cell_type": "code",
   "execution_count": 11,
   "metadata": {},
   "outputs": [
    {
     "name": "stdout",
     "output_type": "stream",
     "text": [
      "Natural\n",
      "language\n",
      "processing\n",
      "(\n",
      "NLP\n",
      ")\n",
      "is\n",
      "a\n",
      "subfield\n",
      "of\n",
      "computer\n",
      "science\n",
      ",\n",
      "information\n",
      "engineering\n",
      ",\n",
      "and\n",
      "artificial\n",
      "intelligence\n",
      "concerned\n",
      "with\n",
      "the\n",
      "interaction\n",
      "between\n",
      "computer\n",
      "and\n",
      "human\n",
      "(\n",
      "natural\n",
      ")\n",
      "language\n",
      ",\n",
      "in\n",
      "particular\n",
      "how\n",
      "to\n",
      "program\n",
      "computer\n",
      "to\n",
      "process\n",
      "and\n",
      "analyze\n",
      "large\n",
      "amount\n",
      "of\n",
      "natural\n",
      "language\n",
      "data\n",
      ".\n",
      "Challenges\n",
      "in\n",
      "natural\n",
      "language\n",
      "processing\n",
      "frequently\n",
      "involve\n",
      "speech\n",
      "recognition\n",
      ",\n",
      "natural\n",
      "language\n",
      "understanding\n",
      ",\n",
      "and\n",
      "natural\n",
      "language\n",
      "generation\n",
      ".\n"
     ]
    }
   ],
   "source": [
    "for w in words:\n",
    "    print(lemm.lemmatize(w))"
   ]
  },
  {
   "cell_type": "code",
   "execution_count": 12,
   "metadata": {},
   "outputs": [
    {
     "name": "stdout",
     "output_type": "stream",
     "text": [
      "Natural\n",
      "language\n",
      "processing\n",
      "(\n",
      "NLP\n",
      ")\n",
      "is\n",
      "a\n",
      "subfield\n",
      "of\n",
      "computer\n",
      "science\n",
      ",\n",
      "information\n",
      "engineering\n",
      ",\n",
      "and\n",
      "artificial\n",
      "intelligence\n",
      "concerned\n",
      "with\n",
      "the\n",
      "interaction\n",
      "between\n",
      "computer\n",
      "and\n",
      "human\n",
      "(\n",
      "natural\n",
      ")\n",
      "language\n",
      ",\n",
      "in\n",
      "particular\n",
      "how\n",
      "to\n",
      "program\n",
      "computer\n",
      "to\n",
      "process\n",
      "and\n",
      "analyze\n",
      "large\n",
      "amount\n",
      "of\n",
      "natural\n",
      "language\n",
      "data\n",
      ".\n",
      "Challenges\n",
      "in\n",
      "natural\n",
      "language\n",
      "processing\n",
      "frequently\n",
      "involve\n",
      "speech\n",
      "recognition\n",
      ",\n",
      "natural\n",
      "language\n",
      "understanding\n",
      ",\n",
      "and\n",
      "natural\n",
      "language\n",
      "generation\n",
      ".\n"
     ]
    }
   ],
   "source": [
    "for w in words:\n",
    "    print(lemm.lemmatize(w))"
   ]
  },
  {
   "cell_type": "code",
   "execution_count": null,
   "metadata": {},
   "outputs": [],
   "source": []
  },
  {
   "cell_type": "code",
   "execution_count": null,
   "metadata": {},
   "outputs": [],
   "source": []
  }
 ],
 "metadata": {
  "kernelspec": {
   "display_name": "Python 3",
   "language": "python",
   "name": "python3"
  },
  "language_info": {
   "codemirror_mode": {
    "name": "ipython",
    "version": 3
   },
   "file_extension": ".py",
   "mimetype": "text/x-python",
   "name": "python",
   "nbconvert_exporter": "python",
   "pygments_lexer": "ipython3",
   "version": "3.6.8"
  }
 },
 "nbformat": 4,
 "nbformat_minor": 2
}
