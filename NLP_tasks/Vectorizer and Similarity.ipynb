{
 "cells": [
  {
   "cell_type": "code",
   "execution_count": 1,
   "metadata": {},
   "outputs": [],
   "source": [
    "from sklearn.feature_extraction.text import CountVectorizer\n",
    "from sklearn.feature_extraction.text import TfidfVectorizer"
   ]
  },
  {
   "cell_type": "code",
   "execution_count": 2,
   "metadata": {},
   "outputs": [
    {
     "name": "stdout",
     "output_type": "stream",
     "text": [
      "[[1 1 1 1 1 1 1]\n",
      " [0 1 0 0 1 1 0]]\n"
     ]
    }
   ],
   "source": [
    "vect = CountVectorizer(binary = True)\n",
    "\n",
    "corpus = [\"Tessaract is an optical character recognition engine\", \"optical character recognition\"]\n",
    "vect.fit(corpus)\n",
    "\n",
    "print(vect.transform(corpus).toarray())"
   ]
  },
  {
   "cell_type": "code",
   "execution_count": 3,
   "metadata": {},
   "outputs": [
    {
     "name": "stdout",
     "output_type": "stream",
     "text": [
      "an:0\n",
      "character:1\n",
      "engine:2\n",
      "is:3\n",
      "optical:4\n",
      "recognition:5\n",
      "tessaract:6\n"
     ]
    }
   ],
   "source": [
    "vocab = vect.vocabulary_\n",
    "\n",
    "for key in sorted(vocab.keys()):\n",
    "  print(\"{}:{}\".format(key, vocab[key]))"
   ]
  },
  {
   "cell_type": "code",
   "execution_count": 4,
   "metadata": {},
   "outputs": [
    {
     "name": "stdout",
     "output_type": "stream",
     "text": [
      "[[0.         0.         0.6316672  0.6316672  0.44943642 0.        ]]\n"
     ]
    }
   ],
   "source": [
    "vect = TfidfVectorizer(binary = True)\n",
    "\n",
    "corpus = [\"CNN is good optical character recognition\", \"optical character recognition\"]\n",
    "vect.fit(corpus)\n",
    "\n",
    "print(vect.transform([\"Today is good optical\"]).toarray())"
   ]
  },
  {
   "cell_type": "code",
   "execution_count": 5,
   "metadata": {},
   "outputs": [
    {
     "name": "stdout",
     "output_type": "stream",
     "text": [
      "[[0.77651453]]\n"
     ]
    }
   ],
   "source": [
    "import pandas as pd\n",
    "import numpy as np\n",
    "\n",
    "from sklearn.metrics.pairwise import cosine_similarity\n",
    "\n",
    "similarity = cosine_similarity(vect.transform([\"Tessaract is an optical character recognition engine\"]).toarray(), \n",
    "                               vect.transform([\"Optical character recognition\"]).toarray())\n",
    "\n",
    "print(similarity)"
   ]
  },
  {
   "cell_type": "code",
   "execution_count": null,
   "metadata": {},
   "outputs": [],
   "source": []
  }
 ],
 "metadata": {
  "kernelspec": {
   "display_name": "Python 3",
   "language": "python",
   "name": "python3"
  },
  "language_info": {
   "codemirror_mode": {
    "name": "ipython",
    "version": 3
   },
   "file_extension": ".py",
   "mimetype": "text/x-python",
   "name": "python",
   "nbconvert_exporter": "python",
   "pygments_lexer": "ipython3",
   "version": "3.6.8"
  }
 },
 "nbformat": 4,
 "nbformat_minor": 2
}
